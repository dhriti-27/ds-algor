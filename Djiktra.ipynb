{
 "cells": [
  {
   "cell_type": "code",
   "execution_count": 25,
   "id": "according-david",
   "metadata": {},
   "outputs": [],
   "source": [
    "cost =  [[0, 3, 4, 0],\n",
    "          [0, 0, 5, 0],\n",
    "          [0, 0, 0, 1],\n",
    "          [0, 0, 0, 0]]\n"
   ]
  },
  {
   "cell_type": "code",
   "execution_count": 143,
   "id": "distant-tourist",
   "metadata": {},
   "outputs": [],
   "source": [
    "def djiktra(v,cost,dist,n):\n",
    "    #inialising\n",
    "    for i in range(0,n):\n",
    "        s=[]\n",
    "        for j in range(0,n):\n",
    "            s.append(False)\n",
    "    \n",
    "        \n",
    "        dist.append(cost[v][i])\n",
    "    s[v]=True\n",
    "    dist[v]=0\n",
    "    INF=float('inf')\n",
    "    minm=float('inf')\n",
    "    for i in range(1,n):\n",
    "        if s[i]!=True:\n",
    "            if dist[i]<minm:\n",
    "                minm=dist[i]\n",
    "                #n=1\n",
    "                #s[n]=True\n",
    "        for w in range(1,n):\n",
    "            if\n",
    "            if cost[u][w]!=INF and s[u]==False:\n",
    "                s[u]=True\n",
    "                if dist[w]>(dist[v] +cost[v][w]):\n",
    "                        dist[w]=dist[u]+cost[u][w]\n",
    "\n",
    "                        print(dist)\n",
    "        "
   ]
  },
  {
   "cell_type": "code",
   "execution_count": 144,
   "id": "controlling-latino",
   "metadata": {},
   "outputs": [
    {
     "ename": "NameError",
     "evalue": "name 'u' is not defined",
     "output_type": "error",
     "traceback": [
      "\u001b[1;31m---------------------------------------------------------------------------\u001b[0m",
      "\u001b[1;31mNameError\u001b[0m                                 Traceback (most recent call last)",
      "\u001b[1;32m<ipython-input-144-32b9c64f2aea>\u001b[0m in \u001b[0;36m<module>\u001b[1;34m\u001b[0m\n\u001b[0;32m      7\u001b[0m \u001b[0mn\u001b[0m\u001b[1;33m=\u001b[0m\u001b[1;36m4\u001b[0m\u001b[1;33m\u001b[0m\u001b[1;33m\u001b[0m\u001b[0m\n\u001b[0;32m      8\u001b[0m \u001b[0mdist\u001b[0m\u001b[1;33m=\u001b[0m\u001b[1;33m[\u001b[0m\u001b[1;33m]\u001b[0m\u001b[1;33m\u001b[0m\u001b[1;33m\u001b[0m\u001b[0m\n\u001b[1;32m----> 9\u001b[1;33m \u001b[0mprint\u001b[0m\u001b[1;33m(\u001b[0m\u001b[0mdjiktra\u001b[0m\u001b[1;33m(\u001b[0m\u001b[0mv\u001b[0m\u001b[1;33m,\u001b[0m\u001b[0mcost\u001b[0m\u001b[1;33m,\u001b[0m\u001b[0mdist\u001b[0m\u001b[1;33m,\u001b[0m\u001b[0mn\u001b[0m\u001b[1;33m)\u001b[0m\u001b[1;33m)\u001b[0m\u001b[1;33m\u001b[0m\u001b[1;33m\u001b[0m\u001b[0m\n\u001b[0m",
      "\u001b[1;32m<ipython-input-143-532d1b1d8975>\u001b[0m in \u001b[0;36mdjiktra\u001b[1;34m(v, cost, dist, n)\u001b[0m\n\u001b[0;32m     19\u001b[0m                 \u001b[1;31m#s[n]=True\u001b[0m\u001b[1;33m\u001b[0m\u001b[1;33m\u001b[0m\u001b[1;33m\u001b[0m\u001b[0m\n\u001b[0;32m     20\u001b[0m         \u001b[1;32mfor\u001b[0m \u001b[0mw\u001b[0m \u001b[1;32min\u001b[0m \u001b[0mrange\u001b[0m\u001b[1;33m(\u001b[0m\u001b[1;36m1\u001b[0m\u001b[1;33m,\u001b[0m\u001b[0mn\u001b[0m\u001b[1;33m)\u001b[0m\u001b[1;33m:\u001b[0m\u001b[1;33m\u001b[0m\u001b[1;33m\u001b[0m\u001b[0m\n\u001b[1;32m---> 21\u001b[1;33m             \u001b[1;32mif\u001b[0m \u001b[0mcost\u001b[0m\u001b[1;33m[\u001b[0m\u001b[0mu\u001b[0m\u001b[1;33m]\u001b[0m\u001b[1;33m[\u001b[0m\u001b[0mw\u001b[0m\u001b[1;33m]\u001b[0m\u001b[1;33m!=\u001b[0m\u001b[0mINF\u001b[0m \u001b[1;32mand\u001b[0m \u001b[0ms\u001b[0m\u001b[1;33m[\u001b[0m\u001b[0mu\u001b[0m\u001b[1;33m]\u001b[0m\u001b[1;33m==\u001b[0m\u001b[1;32mFalse\u001b[0m\u001b[1;33m:\u001b[0m\u001b[1;33m\u001b[0m\u001b[1;33m\u001b[0m\u001b[0m\n\u001b[0m\u001b[0;32m     22\u001b[0m                 \u001b[0ms\u001b[0m\u001b[1;33m[\u001b[0m\u001b[0mu\u001b[0m\u001b[1;33m]\u001b[0m\u001b[1;33m=\u001b[0m\u001b[1;32mTrue\u001b[0m\u001b[1;33m\u001b[0m\u001b[1;33m\u001b[0m\u001b[0m\n\u001b[0;32m     23\u001b[0m                 \u001b[1;32mif\u001b[0m \u001b[0mdist\u001b[0m\u001b[1;33m[\u001b[0m\u001b[0mw\u001b[0m\u001b[1;33m]\u001b[0m\u001b[1;33m>\u001b[0m\u001b[1;33m(\u001b[0m\u001b[0mdist\u001b[0m\u001b[1;33m[\u001b[0m\u001b[0mv\u001b[0m\u001b[1;33m]\u001b[0m \u001b[1;33m+\u001b[0m\u001b[0mcost\u001b[0m\u001b[1;33m[\u001b[0m\u001b[0mv\u001b[0m\u001b[1;33m]\u001b[0m\u001b[1;33m[\u001b[0m\u001b[0mw\u001b[0m\u001b[1;33m]\u001b[0m\u001b[1;33m)\u001b[0m\u001b[1;33m:\u001b[0m\u001b[1;33m\u001b[0m\u001b[1;33m\u001b[0m\u001b[0m\n",
      "\u001b[1;31mNameError\u001b[0m: name 'u' is not defined"
     ]
    }
   ],
   "source": [
    "null=float('inf')\n",
    "cost =  [[null, 3, 4, null],\n",
    "          [null, null, 5, null],\n",
    "          [null, null, null, 1],\n",
    "          [7, null, null, null]]\n",
    "v=2\n",
    "n=4\n",
    "dist=[]\n",
    "print(djiktra(v,cost,dist,n))"
   ]
  },
  {
   "cell_type": "code",
   "execution_count": 149,
   "id": "weighted-final",
   "metadata": {},
   "outputs": [],
   "source": [
    "def djiktra(v,cost,dist,n):\n",
    "    #inialising\n",
    "    for i in range(0,n):\n",
    "        s=[]\n",
    "    for j in range(0,n):\n",
    "        s.append(False)\n",
    "        dist.append(cost[v][i])\n",
    "    s[v]=True\n",
    "    dist[v]=0\n",
    "    INF=float('inf')\n",
    "    for i in range(1,n):\n",
    "        minm=INF\n",
    "        u=0\n",
    "        for j in range(0,n):\n",
    "            if s[i]!=True:\n",
    "                if dist[j]<minm:\n",
    "                    minm=dist[j]\n",
    "                    u=j\n",
    "        s[u]=True\n",
    "        for w in range(1,n):\n",
    "            if cost[v][w]!=INF and s[w]==False:\n",
    "                if dist[w]>(dist[v] +cost[v][w]):\n",
    "                        dist[w]=dist[v]+cost[v][w]\n",
    "    \n",
    "    print(dist)"
   ]
  },
  {
   "cell_type": "code",
   "execution_count": 150,
   "id": "affected-liver",
   "metadata": {},
   "outputs": [
    {
     "name": "stdout",
     "output_type": "stream",
     "text": [
      "[1, 1, 0, 1]\n"
     ]
    }
   ],
   "source": [
    "null=float('inf')\n",
    "cost =  [[null, 3, 4, null],\n",
    "          [null, null, 5, null],\n",
    "          [null, null, null, 1],\n",
    "          [7, null, null, null]]\n",
    "v=2\n",
    "n=4\n",
    "dist=[]\n",
    "(djiktra(v,cost,dist,n))"
   ]
  },
  {
   "cell_type": "code",
   "execution_count": null,
   "id": "italic-photograph",
   "metadata": {},
   "outputs": [],
   "source": []
  }
 ],
 "metadata": {
  "kernelspec": {
   "display_name": "Python 3",
   "language": "python",
   "name": "python3"
  },
  "language_info": {
   "codemirror_mode": {
    "name": "ipython",
    "version": 3
   },
   "file_extension": ".py",
   "mimetype": "text/x-python",
   "name": "python",
   "nbconvert_exporter": "python",
   "pygments_lexer": "ipython3",
   "version": "3.9.1"
  }
 },
 "nbformat": 4,
 "nbformat_minor": 5
}
