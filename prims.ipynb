{
 "cells": [
  {
   "cell_type": "code",
   "execution_count": 27,
   "id": "alpine-rochester",
   "metadata": {},
   "outputs": [],
   "source": [
    "import sys\n",
    "def prims(cost,t,n):\n",
    "    mincost=cost[1][1]\n",
    "    \n",
    "    near=[0 for i in range(0,n)]\n",
    "    for k in range(0,n):\n",
    "        for l in range(k+1,n):\n",
    "            if cost[k][l]<mincost:\n",
    "                mincost=cost[k][l]\n",
    "                t[0][0]=k\n",
    "                t[0][1]=l\n",
    "    k=t[0][0]\n",
    "    l=t[0][1]\n",
    "    for i in range(1,n):\n",
    "        if cost[i][l]<cost[i][k]:\n",
    "            near[i]=l\n",
    "        else:\n",
    "            near[i]=k\n",
    "    near[k]=near[l]=-1\n",
    "    for i in range(1,n-1):\n",
    "        j=0\n",
    "        minm=cost[j][j]\n",
    "        for m in range(1,n):\n",
    "            if near[m]!=-1 and cost[m][near[m]]<minm:\n",
    "                minm=cost[m][near[m]]\n",
    "                j=m\n",
    "        t[i][0]=j\n",
    "        t[i][1]=near[j]\n",
    "        mincost=mincost+minm\n",
    "        near[j]=-1\n",
    "        for k in range(0,n):\n",
    "            if near[k]!=-1 and cost[k][near[k]]>cost[k][j]:\n",
    "                near[k]=j\n",
    "    return mincost"
   ]
  },
  {
   "cell_type": "code",
   "execution_count": 33,
   "id": "multiple-indie",
   "metadata": {},
   "outputs": [
    {
     "name": "stdout",
     "output_type": "stream",
     "text": [
      "1 --  6\n",
      "2 --  1\n",
      "3 --  2\n",
      "4 --  3\n",
      "7 --  2\n",
      "5 --  7\n",
      "Mincost:- 113\n"
     ]
    }
   ],
   "source": [
    "n=7\n",
    "null=float('inf')\n",
    "cost=[\n",
    "[null,14,null,null,null,8,null],\n",
    "[35,null,14,null,null,null,18],\n",
    "[null,16,null,12,null,null,null],\n",
    "[null,null,12,null,22,null,20],\n",
    "[null,null,null,22,null,45,21],\n",
    "[10,null,null,null,12,null,null],\n",
    "[null,21,null,27,18,null,null]]\n",
    "\n",
    "t = [[0 for i in range(2)] for j in range(n-1)]\n",
    "mincost= prims(cost,t,n)\n",
    "for i in range(0,n-1):\n",
    "    #print(i)\n",
    "    print(t[i][0]+1,\"-- \",t[i][1]+1)\n",
    "\n",
    "print(\"Mincost:-\",mincost)\n",
    "\n",
    "\n"
   ]
  },
  {
   "cell_type": "code",
   "execution_count": 5,
   "id": "twenty-witness",
   "metadata": {},
   "outputs": [
    {
     "data": {
      "image/png": "[encoded data removed]",
      "text/plain": [
       "<Figure size 432x288 with 1 Axes>"
      ]
     },
     "metadata": {},
     "output_type": "display_data"
    }
   ],
   "source": [
    "import matplotlib.pyplot as plt\n",
    "import networkx as nx\n",
    "\n",
    "G = nx.DiGraph()\n",
    "\n",
    "G.add_edges_from([(1,6), (2,1), (3,2),(4,3),(7,2),(5,7)])\n",
    "\n",
    "\n",
    "nx.draw_networkx(G)\n",
    "\n",
    "\n",
    "\n",
    "plt.show()"
   ]
  },
  {
   "cell_type": "code",
   "execution_count": null,
   "id": "institutional-cabin",
   "metadata": {},
   "outputs": [],
   "source": []
  },
  {
   "cell_type": "code",
   "execution_count": null,
   "id": "requested-professional",
   "metadata": {},
   "outputs": [],
   "source": []
  }
 ],
 "metadata": {
  "kernelspec": {
   "display_name": "Python 3",
   "language": "python",
   "name": "python3"
  },
  "language_info": {
   "codemirror_mode": {
    "name": "ipython",
    "version": 3
   },
   "file_extension": ".py",
   "mimetype": "text/x-python",
   "name": "python",
   "nbconvert_exporter": "python",
   "pygments_lexer": "ipython3",
   "version": "3.9.1"
  }
 },
 "nbformat": 4,
 "nbformat_minor": 5
}
