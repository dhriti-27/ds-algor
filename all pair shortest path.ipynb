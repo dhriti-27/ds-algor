{
 "cells": [
  {
   "cell_type": "code",
   "execution_count": 64,
   "id": "pressing-delivery",
   "metadata": {},
   "outputs": [],
   "source": [
    "def allpair(cost,a,n):\n",
    "    for i in range(1,n+1):\n",
    "        for j in range(1,n+1):\n",
    "            a[i-1][j-1]=cost[i-1][j-1]\n",
    "    for k in range(1,n+1):\n",
    "        for i in range(1,n+1):\n",
    "            for j in range(1,n+1):\n",
    "                a[i-1][j-1]=min(a[i-1][j-1],a[i-1][k-1]+a[k-1][j-1])\n",
    "    return a"
   ]
  },
  {
   "cell_type": "code",
   "execution_count": 65,
   "id": "heated-tennessee",
   "metadata": {},
   "outputs": [
    {
     "data": {
      "text/plain": [
       "[[0, 10, 4, 33, 13],\n",
       " [90, 0, 88, 65, 97],\n",
       " [54, 6, 0, 29, 9],\n",
       " [25, 29, 23, 0, 32],\n",
       " [45, 49, 43, 20, 0]]"
      ]
     },
     "execution_count": 65,
     "metadata": {},
     "output_type": "execute_result"
    }
   ],
   "source": [
    "INF=float('inf')\n",
    "n=5\n",
    "a=[[False for i in range(n)] for i in range(n)]\n",
    "cost=[[0,100,4,INF,30],\n",
    "\t[INF,0,INF,65,INF],\n",
    "\t[INF,6,0,INF,9],\n",
    "\t[25,INF,23,0,INF],\n",
    "\t[INF,INF,INF,20,0]]\n",
    "allpair(cost,a,n)"
   ]
  },
  {
   "cell_type": "code",
   "execution_count": 63,
   "id": "pediatric-pride",
   "metadata": {},
   "outputs": [
    {
     "data": {
      "text/plain": [
       "[[0, 0, 0, 0, 0],\n",
       " [0, 0, 0, 0, 0],\n",
       " [0, 0, 0, 0, 0],\n",
       " [0, 0, 0, 0, 0],\n",
       " [0, 0, 0, 0, 0]]"
      ]
     },
     "execution_count": 63,
     "metadata": {},
     "output_type": "execute_result"
    }
   ],
   "source": [
    "a"
   ]
  },
  {
   "cell_type": "code",
   "execution_count": null,
   "id": "resistant-carnival",
   "metadata": {},
   "outputs": [],
   "source": []
  }
 ],
 "metadata": {
  "kernelspec": {
   "display_name": "Python 3",
   "language": "python",
   "name": "python3"
  },
  "language_info": {
   "codemirror_mode": {
    "name": "ipython",
    "version": 3
   },
   "file_extension": ".py",
   "mimetype": "text/x-python",
   "name": "python",
   "nbconvert_exporter": "python",
   "pygments_lexer": "ipython3",
   "version": "3.9.1"
  }
 },
 "nbformat": 4,
 "nbformat_minor": 5
}
