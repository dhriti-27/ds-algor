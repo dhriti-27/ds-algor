{
 "cells": [
  {
   "cell_type": "code",
   "execution_count": 5,
   "id": "listed-metro",
   "metadata": {},
   "outputs": [
    {
     "name": "stdout",
     "output_type": "stream",
     "text": [
      "14.75 17.391304347826086 19.0\n",
      "greedy on weight: 14.75\n",
      "greedy on profit: 17.391304347826086\n",
      "greedy on both: 19.0\n"
     ]
    }
   ],
   "source": [
    "def Greedy_Knapsack(m,data):\n",
    "  n = len(data)\n",
    "  x = []\n",
    "  for i in range(n):\n",
    "    x.append(0.0)\n",
    "  U = m\n",
    "  for i in range(n):\n",
    "    if data[i][1] > U:\n",
    "      break\n",
    "    x[i] = 1\n",
    "    U = U - data[i][1] \n",
    "  if i <= n-1:\n",
    "    x[i] = U/data[i][1]\n",
    "  return x   \n",
    "\n",
    "#This function is for p/w.\n",
    "def greedy_on_ratio(m,data):\n",
    "  data1 = sorted(data, key = lambda s : s[0]/s[1], reverse = True)\n",
    "  x = Greedy_Knapsack(m,data1)\n",
    "  total_profit = 0\n",
    "  for i in range(len(data1)):\n",
    "    total_profit += (data1[i][0] * x[i])\n",
    "  return total_profit  \n",
    "\n",
    "#This function uses profit.\n",
    "def greedy_on_profit(m,data):\n",
    "  data1 = sorted(data, key = lambda s : s[0], reverse = True)\n",
    "  x = Greedy_Knapsack(m,data1)\n",
    "  total_profit = 0\n",
    "  for i in range(len(data1)):\n",
    "    total_profit += (data1[i][0] * x[i])\n",
    "  return total_profit   \n",
    "\n",
    "#This function uses weight.\n",
    "def greedy_on_weight(m,data):\n",
    "  data1 = sorted(data, key = lambda s : s[1], reverse = False)\n",
    "  x = Greedy_Knapsack(m,data1)\n",
    "  total_profit = 0\n",
    "  for i in range(len(data1)):\n",
    "    total_profit += (data1[i][0] * x[i])\n",
    "  return total_profit\n",
    "W=20   \n",
    "A=[(20,23),(19,20),(10,15)]\n",
    "a=greedy_on_weight(W,A)\n",
    "\n",
    "b=greedy_on_profit(W,A)\n",
    "c=greedy_on_ratio(W,A)\n",
    "print(a,b,c)\n",
    "print('greedy on weight:',a)\n",
    "print('greedy on profit:',b)\n",
    "print('greedy on both:',c)"
   ]
  },
  {
   "cell_type": "code",
   "execution_count": null,
   "id": "atomic-roots",
   "metadata": {},
   "outputs": [],
   "source": []
  },
  {
   "cell_type": "code",
   "execution_count": null,
   "id": "unavailable-sudan",
   "metadata": {},
   "outputs": [],
   "source": []
  }
 ],
 "metadata": {
  "kernelspec": {
   "display_name": "Python 3",
   "language": "python",
   "name": "python3"
  },
  "language_info": {
   "codemirror_mode": {
    "name": "ipython",
    "version": 3
   },
   "file_extension": ".py",
   "mimetype": "text/x-python",
   "name": "python",
   "nbconvert_exporter": "python",
   "pygments_lexer": "ipython3",
   "version": "3.9.1"
  }
 },
 "nbformat": 4,
 "nbformat_minor": 5
}
