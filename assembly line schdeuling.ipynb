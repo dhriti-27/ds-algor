{
 "cells": [
  {
   "cell_type": "code",
   "execution_count": 139,
   "id": "preceding-public",
   "metadata": {},
   "outputs": [],
   "source": [
    "def fastestway(a,t,e,x,n):\n",
    "    f=[[False for i in range(n)] for j in range(2)]\n",
    "    l=[[False for i in range(n-1)] for j in range(2)]\n",
    "    f[0][0]=e[0]+a[0][0]\n",
    "    f[1][0]=e[1]+a[1][0]\n",
    "    for j in range(1,n):\n",
    "        if f[0][j-1]+a[0][j]<f[1][j-1]+a[0][j]+t[1][j-1]:\n",
    "            f[0][j]=f[0][j-1]+a[0][j]\n",
    "            l[0][j-1]=1\n",
    "        else:\n",
    "            f[0][j]=f[1][j-1]+a[0][j]+t[1][j-1]\n",
    "            l[0][j-1]=2\n",
    "        if f[1][j-1]+a[1][j]<f[0][j-1]+a[1][j]+t[0][j-1]:\n",
    "            f[1][j]=f[1][j-1]+a[1][j]\n",
    "            l[1][j-1]=1\n",
    "        else:\n",
    "            f[1][j]=f[0][j-1]+a[1][j]+t[0][j-1]\n",
    "            l[1][j-1]=2\n",
    "    print(f)\n",
    "    if f[0][n-1]+x[0]<=f[1][n-1]+x[1]:\n",
    "        print(l[0])\n",
    "    else:\n",
    "        print(l[1])\n",
    "    #print(f)"
   ]
  },
  {
   "cell_type": "code",
   "execution_count": 140,
   "id": "steady-parker",
   "metadata": {},
   "outputs": [],
   "source": [
    "a=[[7,9,3,4,8,4],[8,5,6,4,5,7]]\n",
    "t=[[2,3,1,3,4],[2,1,2,2,1]]\n",
    "e=[2,4]\n",
    "x=[3,2]\n",
    "n=6"
   ]
  },
  {
   "cell_type": "code",
   "execution_count": 141,
   "id": "toxic-pioneer",
   "metadata": {
    "scrolled": true
   },
   "outputs": [
    {
     "name": "stdout",
     "output_type": "stream",
     "text": [
      "[[9, 18, 20, 24, 32, 35], [12, 16, 22, 25, 30, 37]]\n",
      "[1, 2, 1, 1, 2]\n"
     ]
    }
   ],
   "source": [
    "fastestway(a,t,e,x,n)"
   ]
  },
  {
   "cell_type": "code",
   "execution_count": null,
   "id": "velvet-shore",
   "metadata": {},
   "outputs": [],
   "source": []
  }
 ],
 "metadata": {
  "kernelspec": {
   "display_name": "Python 3",
   "language": "python",
   "name": "python3"
  },
  "language_info": {
   "codemirror_mode": {
    "name": "ipython",
    "version": 3
   },
   "file_extension": ".py",
   "mimetype": "text/x-python",
   "name": "python",
   "nbconvert_exporter": "python",
   "pygments_lexer": "ipython3",
   "version": "3.9.1"
  }
 },
 "nbformat": 4,
 "nbformat_minor": 5
}
