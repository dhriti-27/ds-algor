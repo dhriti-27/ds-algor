{
 "cells": [
  {
   "cell_type": "code",
   "execution_count": null,
   "id": "alert-tribune",
   "metadata": {},
   "outputs": [],
   "source": [
    "#sumofaraay\n",
    "import random\n",
    "import time\n",
    "from datetime import datetime\n",
    "k=list(range(1000,10000,1000))\n",
    "d=[]\n",
    "p=[]\n",
    "avgcnt=100\n",
    "for i in k:\n",
    "    a=[]\n",
    "    time=0\n",
    "    j=0\n",
    "    l=1\n",
    "    t=[]\n",
    "    \n",
    "    while l<=avgcnt:  \n",
    "        res=0\n",
    "        while(j<=i):\n",
    "            a.append(random.randint(1,10000))\n",
    "            j=j+1\n",
    "        start_time = datetime.now()\n",
    "        for lc in range(1,i):\n",
    "          res+=a[i]\n",
    "        end_time = datetime.now()\n",
    "        \n",
    "        l=l+1   \n",
    "        d=format(end_time-start_time)\n",
    "   \n",
    "        t.append((d.split('.')[1:]))\n",
    "        r = list(map(''.join,t))\n",
    "        m=[int(i) for i in r]\n",
    "    p.append(sum(m)/100) \n",
    "p   \n",
    "import matplotlib.pyplot as plt\n",
    "x=range(1000,9000,1000)\n",
    "y=range(0,1600,200)\n",
    "plt.plot(x,y)\n",
    "plt.plot(k,p)\n",
    "plt.xlabel('number of array elements')\n",
    "plt.ylabel('average time')"
   ]
  }
 ],
 "metadata": {
  "kernelspec": {
   "display_name": "Python 3",
   "language": "python",
   "name": "python3"
  },
  "language_info": {
   "codemirror_mode": {
    "name": "ipython",
    "version": 3
   },
   "file_extension": ".py",
   "mimetype": "text/x-python",
   "name": "python",
   "nbconvert_exporter": "python",
   "pygments_lexer": "ipython3",
   "version": "3.9.1"
  }
 },
 "nbformat": 4,
 "nbformat_minor": 5
}
