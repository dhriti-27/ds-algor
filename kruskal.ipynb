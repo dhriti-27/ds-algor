{
 "cells": [
  {
   "cell_type": "code",
   "execution_count": 342,
   "id": "coordinated-question",
   "metadata": {},
   "outputs": [],
   "source": [
    "INF = float('inf')\n",
    "\n",
    "cost = [[INF, 2, INF, 16, INF],\n",
    "        [5, INF, 7, 13, 3],\n",
    "        [INF, 10, INF, \n",
    "         INF, 11],\n",
    "        [12, 8, INF, INF, 4],\n",
    "        [INF, 5, 6, 9, INF]]"
   ]
  },
  {
   "cell_type": "code",
   "execution_count": 343,
   "id": "unexpected-bouquet",
   "metadata": {},
   "outputs": [
    {
     "data": {
      "text/plain": [
       "[[1, 1, inf],\n",
       " [1, 2, 2],\n",
       " [1, 3, inf],\n",
       " [1, 4, 16],\n",
       " [1, 5, inf],\n",
       " [2, 1, 5],\n",
       " [2, 2, inf],\n",
       " [2, 3, 7],\n",
       " [2, 4, 13],\n",
       " [2, 5, 3],\n",
       " [3, 1, inf],\n",
       " [3, 2, 10],\n",
       " [3, 3, inf],\n",
       " [3, 4, inf],\n",
       " [3, 5, 11],\n",
       " [4, 1, 12],\n",
       " [4, 2, 8],\n",
       " [4, 3, inf],\n",
       " [4, 4, inf],\n",
       " [4, 5, 4],\n",
       " [5, 1, inf],\n",
       " [5, 2, 5],\n",
       " [5, 3, 6],\n",
       " [5, 4, 9],\n",
       " [5, 5, inf]]"
      ]
     },
     "execution_count": 343,
     "metadata": {},
     "output_type": "execute_result"
    }
   ],
   "source": [
    "fin=[]\n",
    "for i in range(len(cost)):\n",
    "    for j in range(len(cost)):\n",
    "        \n",
    "        k=i+1,j+1,cost[i][j]\n",
    "        k=list(k)\n",
    "        fin.append(k)\n",
    "fin   \n"
   ]
  },
  {
   "cell_type": "code",
   "execution_count": 345,
   "id": "modular-tokyo",
   "metadata": {},
   "outputs": [
    {
     "data": {
      "text/plain": [
       "[[0, 1, 2],\n",
       " [1, 4, 3],\n",
       " [3, 4, 4],\n",
       " [1, 0, 5],\n",
       " [4, 1, 5],\n",
       " [4, 2, 6],\n",
       " [1, 2, 7],\n",
       " [3, 1, 8],\n",
       " [4, 3, 9],\n",
       " [2, 1, 10],\n",
       " [2, 4, 11],\n",
       " [3, 0, 12],\n",
       " [1, 3, 13],\n",
       " [0, 3, 16]]"
      ]
     },
     "execution_count": 345,
     "metadata": {},
     "output_type": "execute_result"
    }
   ],
   "source": [
    "import pandas as pd\n",
    "df=pd.DataFrame(lis,columns=['i','j','cost'])\n",
    "lis=df = df[df.cost!=float]\n",
    "\n",
    "df=df.sort_values('cost')\n",
    "\n",
    "sort = df.values.tolist()\n",
    "sort"
   ]
  },
  {
   "cell_type": "code",
   "execution_count": 346,
   "id": "taken-museum",
   "metadata": {},
   "outputs": [
    {
     "data": {
      "text/plain": [
       "[[0, 1, 2], [1, 4, 3], [3, 4, 4], [4, 2, 6], [1, 2, 7], [3, 1, 8], [3, 0, 12]]"
      ]
     },
     "execution_count": 346,
     "metadata": {},
     "output_type": "execute_result"
    }
   ],
   "source": [
    "\n",
    "c=1\n",
    "for i in sort:\n",
    "    for j in sort[c:]:\n",
    "        if(i[0]==j[1] and i[1]==j[0]):\n",
    "            sort.remove(j)\n",
    "        \n",
    "    c=c+1     \n",
    "              \n",
    "sort "
   ]
  },
  {
   "cell_type": "code",
   "execution_count": 347,
   "id": "champion-reaction",
   "metadata": {},
   "outputs": [
    {
     "name": "stdout",
     "output_type": "stream",
     "text": [
      "0 1 -> 2\n",
      "1 4 -> 3\n",
      "3 4 -> 4\n",
      "4 2 -> 6\n"
     ]
    }
   ],
   "source": [
    "g=[]\n",
    "edges=4\n",
    "cost=1\n",
    "len(g)\n",
    "\n",
    "for u,v,w in sort:\n",
    "    if len(g)!=edges:\n",
    "        print(u,v,'->',w)\n",
    "        g.append(w)\n",
    "    else:\n",
    "        break\n",
    "\n"
   ]
  },
  {
   "cell_type": "code",
   "execution_count": 348,
   "id": "defined-shipping",
   "metadata": {},
   "outputs": [
    {
     "data": {
      "text/plain": [
       "15"
      ]
     },
     "execution_count": 348,
     "metadata": {},
     "output_type": "execute_result"
    }
   ],
   "source": [
    "sum(g)"
   ]
  },
  {
   "cell_type": "code",
   "execution_count": 4,
   "id": "corporate-buddy",
   "metadata": {},
   "outputs": [
    {
     "data": {
      "image/png": "[encoded data removed]",
      "text/plain": [
       "<Figure size 432x288 with 1 Axes>"
      ]
     },
     "metadata": {},
     "output_type": "display_data"
    }
   ],
   "source": [
    "import matplotlib.pyplot as plt\n",
    "import networkx as nx\n",
    "\n",
    "G = nx.DiGraph()\n",
    "\n",
    "G.add_edges_from([(0,1), (1, 4), (3, 4),(4,2)])\n",
    "\n",
    "\n",
    "nx.draw_networkx(G)\n",
    "\n",
    "\n",
    "\n",
    "plt.show()\n"
   ]
  },
  {
   "cell_type": "code",
   "execution_count": null,
   "id": "irish-attachment",
   "metadata": {},
   "outputs": [],
   "source": []
  }
 ],
 "metadata": {
  "kernelspec": {
   "display_name": "Python 3",
   "language": "python",
   "name": "python3"
  },
  "language_info": {
   "codemirror_mode": {
    "name": "ipython",
    "version": 3
   },
   "file_extension": ".py",
   "mimetype": "text/x-python",
   "name": "python",
   "nbconvert_exporter": "python",
   "pygments_lexer": "ipython3",
   "version": "3.9.1"
  }
 },
 "nbformat": 4,
 "nbformat_minor": 5
}
