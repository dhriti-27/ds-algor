{
 "cells": [
  {
   "cell_type": "code",
   "execution_count": null,
   "id": "secondary-taste",
   "metadata": {},
   "outputs": [],
   "source": [
    "import time\n",
    "def nary(farray,key):\n",
    "  for i in farray:\n",
    "    \n",
    "    if key<max(i) or key==max(i):\n",
    "      final=i\n",
    "      break\n",
    "      #print((final))\n",
    "  #print(final)    \n",
    "  for j in final:\n",
    "    #print(j)\n",
    "    if j==key:\n",
    "      return(key)\n",
    "\n",
    "   \n",
    "import random\n",
    "li=[70,100,120]\n",
    "\n",
    "for j in li:\n",
    "  array=[]\n",
    "  i=0\n",
    "  while i<j:\n",
    "    a=random.randint(1,200)\n",
    "    array.append(a)\n",
    "    i=i+1\n",
    "  myList=sorted(array)\n",
    "\n",
    "  h=[]\n",
    "  from datetime import datetime\n",
    "  items = list(range(1,10))\n",
    "  for parts in items:\n",
    "    farray=[myList[(i*len(myList))//parts:((i+1)*len(myList))//parts] for i in range(parts)]\n",
    "    start_time=time.time()\n",
    "    import random\n",
    "    key=random.randint(1,100)\n",
    "    k=nary(farray,key)\n",
    "    end_time=time.time()\n",
    "    #print(myList,key)\n",
    "    \n",
    "    \n",
    "    #print(yes,no)\n",
    "    d=format(end_time-start_time)\n",
    "    h.append(d)\n",
    "    #h.append(d.split('.')[1:])\n",
    "    #r= list(map(''.join,h))\n",
    "    #print(type(r))\n",
    "    #m=[int(i) for i in r]\n",
    "  #print(h)\n",
    "  #print(m)\n",
    "  #print(items)\n",
    "  import matplotlib.pyplot as plt\n",
    "  plt.plot(items,h)\n",
    "  print(min(h))\n",
    "  #print(len(myList))\n",
    "  "
   ]
  }
 ],
 "metadata": {
  "kernelspec": {
   "display_name": "Python 3",
   "language": "python",
   "name": "python3"
  },
  "language_info": {
   "codemirror_mode": {
    "name": "ipython",
    "version": 3
   },
   "file_extension": ".py",
   "mimetype": "text/x-python",
   "name": "python",
   "nbconvert_exporter": "python",
   "pygments_lexer": "ipython3",
   "version": "3.9.1"
  }
 },
 "nbformat": 4,
 "nbformat_minor": 5
}
