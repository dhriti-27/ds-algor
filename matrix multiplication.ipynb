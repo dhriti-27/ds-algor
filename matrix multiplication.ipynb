{
 "cells": [
  {
   "cell_type": "code",
   "execution_count": 1,
   "id": "latest-pattern",
   "metadata": {},
   "outputs": [],
   "source": [
    "def matmul(p):\n",
    "    n=len(p)-1\n",
    "    s=[['-'  for i in range(n)]for j in range(n)]\n",
    "    inf=float('inf')\n",
    "    m=[['-' for i in range(n)] for j in range(n)]\n",
    "    #for i in range(0,n):\n",
    "    for i in range(1,n+1):\n",
    "        #print(i)\n",
    "        m[i-1][i-1]=0\n",
    "        s[i-1][i-1]=0\n",
    "    for l in range(2,n+1):   #num of matrix multiplying(chain length)\n",
    "        for i in range(1,n-l+2): \n",
    "            j=(i)+l-1\n",
    "            m[i-1][j-1]=inf\n",
    "            #a=[]\n",
    "            for k in range(i,j):\n",
    "                \n",
    "                #print(k,p[i],p[k],p[j])\n",
    "                #print(m[i-1][k],m[k+1][j])\n",
    "                q=m[i-1][k-1]+m[k][j-1]+p[i-1]*p[k]*p[j]\n",
    "                #a.append(q)\n",
    "                if q<m[i-1][j-1]:\n",
    "            #print(a)\n",
    "                    m[i-1][j-1]=q\n",
    "                    s[i-1][j-1]=k\n",
    "                #print(p)\n",
    "    return s, m\n",
    "    #return m\n",
    "            \n",
    "                    \n",
    "    #return m\n",
    "         "
   ]
  },
  {
   "cell_type": "code",
   "execution_count": 2,
   "id": "decimal-fishing",
   "metadata": {},
   "outputs": [
    {
     "data": {
      "text/plain": [
       "([[0, 1, 2, 1, 1, 5],\n",
       "  ['-', 0, 2, 2, 2, 5],\n",
       "  ['-', '-', 0, 3, 3, 5],\n",
       "  ['-', '-', '-', 0, 4, 5],\n",
       "  ['-', '-', '-', '-', 0, 5],\n",
       "  ['-', '-', '-', '-', '-', 0]],\n",
       " [[0, 11250, 20250, 14250, 8125, 12625],\n",
       "  ['-', 0, 7500, 6750, 4375, 8125],\n",
       "  ['-', '-', 0, 3000, 2500, 4750],\n",
       "  ['-', '-', '-', 0, 1000, 4000],\n",
       "  ['-', '-', '-', '-', 0, 1500],\n",
       "  ['-', '-', '-', '-', '-', 0]])"
      ]
     },
     "execution_count": 2,
     "metadata": {},
     "output_type": "execute_result"
    }
   ],
   "source": [
    "p=[30,25,15,20,10,5,30]\n",
    "matmul(p)"
   ]
  },
  {
   "cell_type": "code",
   "execution_count": 359,
   "id": "postal-glory",
   "metadata": {},
   "outputs": [
    {
     "data": {
      "text/plain": [
       "7"
      ]
     },
     "execution_count": 359,
     "metadata": {},
     "output_type": "execute_result"
    }
   ],
   "source": []
  },
  {
   "cell_type": "code",
   "execution_count": 360,
   "id": "subsequent-installation",
   "metadata": {},
   "outputs": [
    {
     "name": "stdout",
     "output_type": "stream",
     "text": [
      "1\n",
      "2\n",
      "3\n",
      "4\n",
      "5\n"
     ]
    }
   ],
   "source": []
  },
  {
   "cell_type": "code",
   "execution_count": null,
   "id": "proud-upset",
   "metadata": {},
   "outputs": [],
   "source": []
  },
  {
   "cell_type": "code",
   "execution_count": null,
   "id": "referenced-monaco",
   "metadata": {},
   "outputs": [],
   "source": []
  },
  {
   "cell_type": "code",
   "execution_count": null,
   "id": "applicable-richmond",
   "metadata": {},
   "outputs": [],
   "source": []
  }
 ],
 "metadata": {
  "kernelspec": {
   "display_name": "Python 3",
   "language": "python",
   "name": "python3"
  },
  "language_info": {
   "codemirror_mode": {
    "name": "ipython",
    "version": 3
   },
   "file_extension": ".py",
   "mimetype": "text/x-python",
   "name": "python",
   "nbconvert_exporter": "python",
   "pygments_lexer": "ipython3",
   "version": "3.9.1"
  }
 },
 "nbformat": 4,
 "nbformat_minor": 5
}
